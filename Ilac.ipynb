{
  "nbformat": 4,
  "nbformat_minor": 0,
  "metadata": {
    "colab": {
      "private_outputs": true,
      "provenance": [],
      "authorship_tag": "ABX9TyOHiCeps3Ihg7yjOdSeGomY",
      "include_colab_link": true
    },
    "kernelspec": {
      "name": "python3",
      "display_name": "Python 3"
    },
    "language_info": {
      "name": "python"
    }
  },
  "cells": [
    {
      "cell_type": "markdown",
      "metadata": {
        "id": "view-in-github",
        "colab_type": "text"
      },
      "source": [
        "<a href=\"https://colab.research.google.com/github/erturkkadir/sifirdan/blob/master/Ilac.ipynb\" target=\"_parent\"><img src=\"https://colab.research.google.com/assets/colab-badge.svg\" alt=\"Open In Colab\"/></a>"
      ]
    },
    {
      "cell_type": "code",
      "execution_count": null,
      "metadata": {
        "id": "xr4fcLVa6_jS"
      },
      "outputs": [],
      "source": [
        "! pip install chembl_webresource_client"
      ]
    },
    {
      "cell_type": "markdown",
      "source": [
        "ChEMBL Database, 2 milyondan fazla bilesenin biolojik aktivite kayitlari \n",
        "\n",
        "https://www.ebi.ac.uk/chembl/"
      ],
      "metadata": {
        "id": "2FNp_iYk7pYg"
      }
    },
    {
      "cell_type": "code",
      "source": [
        "import pandas as pd\n",
        "from chembl_webresource_client.new_client import new_client"
      ],
      "metadata": {
        "id": "qycOQt5c72uA"
      },
      "execution_count": null,
      "outputs": []
    },
    {
      "cell_type": "code",
      "source": [
        "# Target search for coronavirus\n",
        "target = new_client.target\n",
        "target_query = target.search('acetylcholinesterase')\n",
        "targets = pd.DataFrame.from_dict(target_query)\n",
        "targets.head(5)"
      ],
      "metadata": {
        "id": "Yf7igL3z8OfD"
      },
      "execution_count": null,
      "outputs": []
    },
    {
      "cell_type": "code",
      "source": [
        "selected_target = targets.target_chembl_id[0]\n",
        "selected_target\n",
        "activity = new_client.activity\n",
        "res = activity.filter(target_chembl_id=selected_target).filter(standard_type=\"IC50\")\n",
        "df = pd.DataFrame.from_dict(res)\n",
        "df = df[df.standard_value.notna()]\n",
        "df = df[df.canonical_smiles.notna()]\n",
        "df_nr = df.drop_duplicates(['canonical_smiles'])\n",
        "df_nr\n",
        "len(df.canonical_smiles.unique())"
      ],
      "metadata": {
        "id": "Pf9TOake8tBC"
      },
      "execution_count": null,
      "outputs": []
    },
    {
      "cell_type": "markdown",
      "source": [
        "Select and retrieve bioactivity data for Human Acetylcholinesterase (first entry)\n",
        "We will assign the fifth entry (which corresponds to the target protein, Human Acetylcholinesterase) to the *selected_target* variable"
      ],
      "metadata": {
        "id": "qYw3XBtc8nrs"
      }
    },
    {
      "cell_type": "markdown",
      "source": [],
      "metadata": {
        "id": "3EGv4HKz9GBq"
      }
    },
    {
      "cell_type": "code",
      "source": [
        "df.to_csv('acetylcholinesterase_01_bioactivity_data_raw.csv', index=False)\n",
        "selection = ['molecule_chembl_id','canonical_smiles','standard_value']\n",
        "df2 = df_nr[selection]\n",
        "df2"
      ],
      "metadata": {
        "id": "uS3SD6239Hmg"
      },
      "execution_count": null,
      "outputs": []
    }
  ]
}