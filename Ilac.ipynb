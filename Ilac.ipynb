{
  "nbformat": 4,
  "nbformat_minor": 0,
  "metadata": {
    "colab": {
      "private_outputs": true,
      "provenance": [],
      "authorship_tag": "ABX9TyOEDSDLaxMJ/TdhBZDiI27P",
      "include_colab_link": true
    },
    "kernelspec": {
      "name": "python3",
      "display_name": "Python 3"
    },
    "language_info": {
      "name": "python"
    }
  },
  "cells": [
    {
      "cell_type": "markdown",
      "metadata": {
        "id": "view-in-github",
        "colab_type": "text"
      },
      "source": [
        "<a href=\"https://colab.research.google.com/github/erturkkadir/sifirdan/blob/master/Ilac.ipynb\" target=\"_parent\"><img src=\"https://colab.research.google.com/assets/colab-badge.svg\" alt=\"Open In Colab\"/></a>"
      ]
    },
    {
      "cell_type": "code",
      "execution_count": null,
      "metadata": {
        "id": "xr4fcLVa6_jS"
      },
      "outputs": [],
      "source": [
        "! pip install chembl_webresource_client             # ChEMBL database   https://www.ebi.ac.uk/chembl/ bioactivity"
      ]
    },
    {
      "cell_type": "markdown",
      "source": [
        "ChEMBL Database, 2 milyondan fazla bilesenin biolojik aktivite kayitlari \n",
        "\n",
        "https://www.ebi.ac.uk/chembl/"
      ],
      "metadata": {
        "id": "2FNp_iYk7pYg"
      }
    },
    {
      "cell_type": "code",
      "source": [
        "import pandas as pd                                                                                    # \n",
        "from chembl_webresource_client.new_client import new_client                        # chEMBL"
      ],
      "metadata": {
        "id": "qycOQt5c72uA"
      },
      "execution_count": null,
      "outputs": []
    },
    {
      "cell_type": "code",
      "source": [
        "# Target search for coronavirus\n",
        "target = new_client.target                                                                            # hedef molekul\n",
        "target_query = target.search('acetylcholinesterase')                                        # acetylcholinesterase corona virus \n",
        "targets = pd.DataFrame.from_dict(target_query)                                            # dataFrame e cevir\n",
        "targets.head(5)                                                                                           # Verileri goster"
      ],
      "metadata": {
        "id": "Yf7igL3z8OfD"
      },
      "execution_count": null,
      "outputs": []
    },
    {
      "cell_type": "code",
      "source": [
        "selected_target = targets.target_chembl_id[0]                               # insandaki corona icin\n",
        "activity = new_client.activity                                                        # ne kadar aktif\n",
        "res = activity.filter(target_chembl_id=selected_target).filter(standard_type=\"IC50\") # IC50 activite parametreesi \n",
        "df = pd.DataFrame.from_dict(res)                                                # DataFrame e cevir\n",
        "df = df[df.standard_value.notna()]                                               # standart_value sutunundaki bos degerleri ayikla\n",
        "df = df[df.canonical_smiles.notna()]                                             # canonical_smiles daki bos degerleri ayikla\n",
        "df_nr = df.drop_duplicates(['canonical_smiles'])                            # tekrarlanmis degerleri ayikla\n",
        "df_nr\n",
        "len(df.canonical_smiles.unique())                                                 # Kac kayit kaldi elimizde\n",
        "df_nr"
      ],
      "metadata": {
        "id": "Pf9TOake8tBC"
      },
      "execution_count": null,
      "outputs": []
    },
    {
      "cell_type": "markdown",
      "source": [
        "Select and retrieve bioactivity data for Human Acetylcholinesterase (first entry)\n",
        "We will assign the fifth entry (which corresponds to the target protein, Human Acetylcholinesterase) to the *selected_target* variable"
      ],
      "metadata": {
        "id": "qYw3XBtc8nrs"
      }
    },
    {
      "cell_type": "markdown",
      "source": [],
      "metadata": {
        "id": "3EGv4HKz9GBq"
      }
    },
    {
      "cell_type": "code",
      "source": [
        "selection = ['molecule_chembl_id','canonical_smiles','standard_value']        # Sadece bu 3 sutun ile ilgileniyoruz\n",
        "df2 = df_nr[selection]                                                                            # yeni bir degere ata\n",
        "df2.head(5)"
      ],
      "metadata": {
        "id": "uS3SD6239Hmg"
      },
      "execution_count": null,
      "outputs": []
    },
    {
      "cell_type": "code",
      "source": [
        "bioactivity_threshold = []\n",
        "for i in df2.standard_value:\n",
        "  if float(i) >= 10000:\n",
        "    bioactivity_threshold.append(\"inactive\")\n",
        "  elif float(i) <= 1000:\n",
        "    bioactivity_threshold.append(\"active\")\n",
        "  else:\n",
        "    bioactivity_threshold.append(\"intermediate\")\n",
        "bioactivity_class = pd.Series(bioactivity_threshold, name='class')\n",
        "df3 = pd.concat([df2, bioactivity_class], axis=1)\n",
        "df3\n",
        "     "
      ],
      "metadata": {
        "id": "Jiatbrn0At61"
      },
      "execution_count": null,
      "outputs": []
    },
    {
      "cell_type": "code",
      "source": [
        "df3.to_csv('acetylcholinesterase_03_bioactivity_data_curated.csv', index=False)"
      ],
      "metadata": {
        "id": "syp0reXFBSsy"
      },
      "execution_count": null,
      "outputs": []
    }
  ]
}